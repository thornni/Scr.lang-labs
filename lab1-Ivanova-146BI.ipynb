{
 "cells": [
  {
   "cell_type": "markdown",
   "metadata": {},
   "source": [
    "# Лабораторная работа №1"
   ]
  },
  {
   "cell_type": "markdown",
   "metadata": {},
   "source": [
    "Задание: Используя Python и модули requests и re написать скрипт, извлекающий из веб-страницы(например mosigra.ru) все адреса электронной почты\n"
   ]
  },
  {
   "cell_type": "code",
   "execution_count": 1,
   "metadata": {
    "collapsed": false
   },
   "outputs": [],
   "source": [
    "# Импортируем модули\n",
    "\n",
    "import requests\n",
    "import re"
   ]
  },
  {
   "cell_type": "markdown",
   "metadata": {},
   "source": [
    "### \"Нарезка\" на слова"
   ]
  },
  {
   "cell_type": "code",
   "execution_count": 2,
   "metadata": {
    "collapsed": true
   },
   "outputs": [],
   "source": [
    "# Функция, которая принимает на вход строку и нарезает ее на слова, состоящие из букв латинского алфавита \n",
    "# (кириллица нас не интересут, так как кириллические домены для почты все еще в тесте), цифр 0-9,  \n",
    "# знаков '.', '-', '_' и '@', которые могут использоваться для имен почтовых ящиков.\n",
    "\n",
    "# Функция возвращает list, элементами которого являются условно подходящие слова\n",
    "# и убирает пробелы между словами\n",
    "\n",
    "# Для удобства весь текст приводится к нижнему регистру\n",
    "\n",
    "def cut_to_words(a): # передаем строку \n",
    "    a = a.lower()\n",
    "    b = re.split('[^a-z^0-9@_.-]', a)\n",
    "    \n",
    "    #убираем из списка \"пустые\" слова\n",
    "    x = list()\n",
    "    for i in b:\n",
    "        if i != '':\n",
    "            x.append(i)        \n",
    "        \n",
    "    return x"
   ]
  },
  {
   "cell_type": "markdown",
   "metadata": {},
   "source": [
    "### Анализ \"ящик\" или нет"
   ]
  },
  {
   "cell_type": "code",
   "execution_count": 3,
   "metadata": {
    "collapsed": true
   },
   "outputs": [],
   "source": [
    "# Функция получает на вход список слов, в которых можно \"заподозрить\" ящик\n",
    "# (по сути, список всех выдернутых из текста страницы сайта слов)\n",
    "# и возвращает список из слов, которые определила как \"почтовый ящик\"\n",
    "\n",
    "def mailbox_or_not(x):\n",
    "    \n",
    "    # Согласно требованиям при создании ящиков от компании mail.ru (https://help.mail.ru/enmail-help/registration/name),\n",
    "    # к имени постового ящика могут применятся следующие правила (!Внимание! правило о длине имени здесь игнорируется,\n",
    "    # так как на других доменах такого ограничения часто нет): \n",
    "    # --- любые латинские символы (a-z, A-Z);\n",
    "    # --- любые цифры (0-9);\n",
    "    # --- специальные символы: (\"-\"), (\"_\") и (\".\") — данные символы не могут идти друг за другом, \n",
    "    #     а также быть первыми и последними символами в имени почтового ящика.\n",
    "\n",
    "    \n",
    "    x_new = list()\n",
    "    j = 0\n",
    "\n",
    "    for i in x:\n",
    "        last = len(i) - 1    # номер последней буквы в слове, которое проверяем\n",
    "        at = False           # наличие в слове ровно 1 буквы @\n",
    "        #dot = False          # наличие знака . как минимум через один символ после @\n",
    "    \n",
    "        # если первый и последние символы не _./@\n",
    "        if i[0] != '.' and i[0] != '_' and i[0] != '-' and i[last] != '.' and i[last] != '_' and i[last] != '-' and i[0] != '@' and i[last] != '@': \n",
    "            for k in range(last):\n",
    "                if i[k] == '@':\n",
    "                    at = True\n",
    "                \n",
    "                    # продолжаем искать @ после первой найденной в слове\n",
    "                    t = k + 1\n",
    "                    while t <= last:    \n",
    "                        if i[t] == '@':\n",
    "                            at = False    # если в слове нашлась хотя бы еще одна @, то отбраковываем\n",
    "                            break\n",
    "                        t += 1    \n",
    "                \n",
    "                    if at == False:\n",
    "                        break\n",
    "                    else:\n",
    "                        # Адрес может выгядеть как xxxxx@xxxx.xx или xxxxx@xxxx.xxx, xxxx@xxxx.xxxx (.it, .ru, .org, .info)\n",
    "                        # Поэтому отбираем слова, где полсле знака @ сначала идет ХОТЯ БЫ один разрешенный символ, а не точка,\n",
    "                        # но есть точка, ХОТЯ бы за ДВА символа до конца слова\n",
    "                                   \n",
    "                        if i[k + 1] != '.' and i[k + 1] != '_' and i[k + 1] != '-':\n",
    "                            t = k + 2\n",
    "                            while t <= last:    \n",
    "                                if i[t] == '.' and t != (last -1):\n",
    "                                    #dot = True\n",
    "                                    x_new.append(i)\n",
    "                                #    print(x_new[j])\n",
    "                                    j += 1\n",
    "                                    break\n",
    "                                t += 1    \n",
    "                    \n",
    "    return x_new\n"
   ]
  },
  {
   "cell_type": "markdown",
   "metadata": {},
   "source": [
    "### Убирает дублирующиеся ящики"
   ]
  },
  {
   "cell_type": "code",
   "execution_count": 4,
   "metadata": {
    "collapsed": true
   },
   "outputs": [],
   "source": [
    "def delete_copy(d):\n",
    "    d_new = list()\n",
    "    d_new.append(d[0])\n",
    "\n",
    "    for k in d:  # для каждого элемента списка    \n",
    "            # Кажется, в Python 3 нет этой функции:\n",
    "            # if dict_of_mailadresses.has_key(k) == False:\n",
    "            # А жаль...\n",
    "        \n",
    "            marker = 0        \n",
    "            for l in d_new:\n",
    "                if l == k: \n",
    "                    marker += 1  # слова нет в новом списке один раз, если marker == 0\n",
    "                                 # слово есть в новом списке, если marker > 0\n",
    "            if marker == 0:\n",
    "                d_new.append(k)\n",
    "\n",
    "    return d_new"
   ]
  },
  {
   "cell_type": "code",
   "execution_count": 6,
   "metadata": {
    "collapsed": false
   },
   "outputs": [
    {
     "name": "stdout",
     "output_type": "stream",
     "text": [
      "Enter sitename, please\n",
      "htp://www.mosigra.ru/\n",
      "The site name is wrong\n"
     ]
    }
   ],
   "source": [
    "# Получить имя сайта, по которому нужна информация\n",
    "print('Enter sitename, please')\n",
    "\n",
    "# Введите имя сайта в формате http://... или www...\n",
    "# Примеры, чтобы не искать: https://geektimes.ru/post/74326/  \n",
    "# - http://www.mosigra.ru/  \n",
    "# - http://mlbootcamp.ru/article/tutorial/ \n",
    "# - https://pypi.python.org/pypi/requests/2.11.1\n",
    "\n",
    "sitename = input()\n",
    "#sitename = 'http://www.mosigra.ru/'  #для тестов, чтобы постоянно не вводить имя сайта\n",
    "\n",
    "# Сделаем минимальную проверку, что введено имя сайта\n",
    "check_site_name = True\n",
    "\n",
    "# В этом месте можно добавить более сложне проверки\n",
    "if sitename[:8] != 'https://' and sitename[:7] != 'http://':\n",
    "    check_site_name = False\n",
    "    print('The site name is wrong')\n",
    "else:\n",
    "    print('Please, wait a minute...')\n",
    "    r = requests.get(sitename)\n",
    "         \n",
    "    sitecontent = r.text    # в эту СТРОКУ запишем содержимое, взятое с исследуемого сайта\n",
    "    \n",
    "    # Уберем все лишнее, создав список только из \"подозрительных на почту\" слов\n",
    "    sitecontent_by_words = cut_to_words(sitecontent)\n",
    "    \n",
    "    # Проанализируем слова из списка на предмет, являются ли они похожими на почтовый ящик. \n",
    "    # Получившийся на этом шаге список содержит только имена почтовых ящиков.\n",
    "    mailboxes = mailbox_or_not(sitecontent_by_words)      \n",
    "    \n",
    "    if mailboxes != []:\n",
    "       \n",
    "        # Уберем из списка почтовых ящиков все дубликаты\n",
    "        mailboxes = delete_copy(mailboxes)\n",
    "    \n",
    "        print('On the page of site ', sitename, ' there are e-mailaddresse:\\n')\n",
    "        print('\\n'.join(mailboxes))\n",
    "    else:\n",
    "        print('No one e-mail address on this page. Sorry')"
   ]
  },
  {
   "cell_type": "code",
   "execution_count": null,
   "metadata": {
    "collapsed": false
   },
   "outputs": [],
   "source": []
  },
  {
   "cell_type": "code",
   "execution_count": null,
   "metadata": {
    "collapsed": true
   },
   "outputs": [],
   "source": []
  }
 ],
 "metadata": {
  "anaconda-cloud": {},
  "kernelspec": {
   "display_name": "Python [default]",
   "language": "python",
   "name": "python3"
  },
  "language_info": {
   "codemirror_mode": {
    "name": "ipython",
    "version": 3
   },
   "file_extension": ".py",
   "mimetype": "text/x-python",
   "name": "python",
   "nbconvert_exporter": "python",
   "pygments_lexer": "ipython3",
   "version": "3.5.2"
  }
 },
 "nbformat": 4,
 "nbformat_minor": 1
}
